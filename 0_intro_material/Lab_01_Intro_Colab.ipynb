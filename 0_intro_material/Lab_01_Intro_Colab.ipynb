{
  "nbformat": 4,
  "nbformat_minor": 0,
  "metadata": {
    "colab": {
      "name": "Lab_01_Intro_Colab.ipynb",
      "provenance": [],
      "collapsed_sections": [],
      "toc_visible": true,
      "include_colab_link": true
    },
    "kernelspec": {
      "display_name": "Python 3",
      "language": "python",
      "name": "python3"
    },
    "language_info": {
      "codemirror_mode": {
        "name": "ipython",
        "version": 3
      },
      "file_extension": ".py",
      "mimetype": "text/x-python",
      "name": "python",
      "nbconvert_exporter": "python",
      "pygments_lexer": "ipython3",
      "version": "3.8.5"
    }
  },
  "cells": [
    {
      "cell_type": "markdown",
      "metadata": {
        "id": "view-in-github",
        "colab_type": "text"
      },
      "source": [
        "<a href=\"https://colab.research.google.com/github/Fed29/tutorials2021/blob/main/0_intro_material/Lab_01_Intro_Colab.ipynb\" target=\"_parent\"><img src=\"https://colab.research.google.com/assets/colab-badge.svg\" alt=\"Open In Colab\"/></a>"
      ]
    },
    {
      "cell_type": "markdown",
      "metadata": {
        "id": "IBAupUTp-1ao"
      },
      "source": [
        "# What is Google Colab?\n",
        "\n",
        "[Colaboratory](https://colab.sandbox.google.com/notebooks/welcome.ipynb) is a [Jupyter](http://jupyter.org/) notebook environment that requires no setup to use. It allows you to create and share documents that contain:\n",
        "\n",
        "* Live, runnable code\n",
        "* Visualizations\n",
        "* Explanatory text\n",
        "\n",
        "It's also a great tool for prototyping and quick development. Let's give it a try. "
      ]
    },
    {
      "cell_type": "markdown",
      "metadata": {
        "id": "Cg9or9RcAG0-"
      },
      "source": [
        "Run the following so-called *(Code) Cell* by moving the cursor into it, and either\n",
        "\n",
        "* Pressing the \"play\" icon on the left of the cell, or\n",
        "* Hitting **`Shift + Enter`**."
      ]
    },
    {
      "cell_type": "code",
      "metadata": {
        "id": "qyNrs_gC-2JU",
        "colab": {
          "base_uri": "https://localhost:8080/"
        },
        "outputId": "1e64eef1-b8b3-4a24-d161-59b2865930e8"
      },
      "source": [
        "print('Hello, M2L!')"
      ],
      "execution_count": 1,
      "outputs": [
        {
          "output_type": "stream",
          "text": [
            "Hello, M2L!\n"
          ],
          "name": "stdout"
        }
      ]
    },
    {
      "cell_type": "markdown",
      "metadata": {
        "id": "8RGeFACL-2Ps"
      },
      "source": [
        "You should see the `Hello, M2L!` printed under the code."
      ]
    },
    {
      "cell_type": "markdown",
      "metadata": {
        "id": "7UwtwzObZbKt"
      },
      "source": [
        "The code is executed on a virtual machine dedicated to your account, with the results sent back to your browser. This has some positive and negative consequences."
      ]
    },
    {
      "cell_type": "markdown",
      "metadata": {
        "id": "-iBdZmzvbPAh"
      },
      "source": [
        "## Using a GPU\n",
        "\n",
        "You can connect to a virtual machine with a GPU. To select the hardware you want to use, follow either\n",
        "\n",
        "* **Edit > Notebook settings**, or\n",
        "* **Runtime > Change runtime type**\n",
        "\n",
        "and choose an accelerator.\n",
        "\n",
        "Note: since January 2020, only **Python 3** is supported in the Google Colab environment."
      ]
    },
    {
      "cell_type": "markdown",
      "metadata": {
        "id": "zxRZTbjtbPco"
      },
      "source": [
        "## Losing Connection\n",
        "\n",
        "You may lose connection to your virtual machine. The two most common causes are:\n",
        "\n",
        "* Virtual machines are recycled when idle for a while, and have a maximum lifetime enforced by the system.\n",
        "*  Long-running background computations, particularly on GPUs, may be stopped.\n",
        "\n",
        "**If you lose connection**, the state of your notebook will also be lost. You will need to **rerun all cells** up to the one you are currently working on. To do so\n",
        "\n",
        "1. Select (place the cursor into) the cell you are working on. \n",
        "2. Follow **Runtime > Run before**."
      ]
    },
    {
      "cell_type": "markdown",
      "metadata": {
        "id": "kUhiagDUC28G"
      },
      "source": [
        "## Pretty Printing by colab\n",
        "1) If the **last operation** of a given cell returns a value, it will be pretty printed by colab.\n"
      ]
    },
    {
      "cell_type": "code",
      "metadata": {
        "id": "Hz9y44oYDpXI",
        "colab": {
          "base_uri": "https://localhost:8080/"
        },
        "outputId": "8c7d93d5-459a-4523-b632-eb4598253f12"
      },
      "source": [
        "6 * 7"
      ],
      "execution_count": 1,
      "outputs": [
        {
          "output_type": "execute_result",
          "data": {
            "text/plain": [
              "42"
            ]
          },
          "metadata": {
            "tags": []
          },
          "execution_count": 1
        }
      ]
    },
    {
      "cell_type": "code",
      "metadata": {
        "id": "YqgK5BvLFaU3"
      },
      "source": [
        "my_dict = {'one': 1, 'some set': {4, 2, 2}, 'a regular list': range(5)}"
      ],
      "execution_count": 2,
      "outputs": []
    },
    {
      "cell_type": "markdown",
      "metadata": {
        "id": "1Rqgt29CFb4J"
      },
      "source": [
        "There is no output from the second cell, as assignment does not return anything."
      ]
    },
    {
      "cell_type": "markdown",
      "metadata": {
        "id": "ZgekhVgsC3Bu"
      },
      "source": [
        "2) You can explicitly **print** anything before the last operation, or **suppress** the output of the last operation by adding a semicolon."
      ]
    },
    {
      "cell_type": "code",
      "metadata": {
        "id": "7VKvo7dvDxBy",
        "colab": {
          "base_uri": "https://localhost:8080/"
        },
        "outputId": "93fac5dc-10ef-419a-d23c-1af5a5d378d2"
      },
      "source": [
        "print(my_dict)\n",
        "my_dict['one'] * 10 + 1"
      ],
      "execution_count": 5,
      "outputs": [
        {
          "output_type": "stream",
          "text": [
            "{'one': 1, 'some set': {2, 4}, 'a regular list': range(0, 5)}\n"
          ],
          "name": "stdout"
        },
        {
          "output_type": "execute_result",
          "data": {
            "text/plain": [
              "11"
            ]
          },
          "metadata": {
            "tags": []
          },
          "execution_count": 5
        }
      ]
    },
    {
      "cell_type": "code",
      "metadata": {
        "id": "wUnFxuCoAgOp"
      },
      "source": [
        "my_dict['one'] * 10 + 1;"
      ],
      "execution_count": 6,
      "outputs": []
    },
    {
      "cell_type": "markdown",
      "metadata": {
        "id": "z2cu-vPJJL2o"
      },
      "source": [
        "## Scoping and Execution Model"
      ]
    },
    {
      "cell_type": "markdown",
      "metadata": {
        "id": "nKnGjUJvI5Gg"
      },
      "source": [
        "Notice that in the previous code cell we worked with `my_dict`, while it was defined in an even earlier cell.\n",
        "\n",
        "1) In colabs, variables defined at cell root have **global** scope.\n",
        "\n",
        "Modify `my_dict`:"
      ]
    },
    {
      "cell_type": "code",
      "metadata": {
        "id": "XETX0TevKW_h"
      },
      "source": [
        "my_dict['I\\'ve been changed!'] = True"
      ],
      "execution_count": 7,
      "outputs": []
    },
    {
      "cell_type": "markdown",
      "metadata": {
        "id": "FMPTBE_HDxIH"
      },
      "source": [
        "2) Cells can be **run** in any **arbitrary order**, and global state is maintained between them.\n",
        "\n",
        "Try re-running the cell where we printed `my_dict`. You should see now  see the additional item `\"I've been changed!\": True`.\n"
      ]
    },
    {
      "cell_type": "code",
      "metadata": {
        "id": "qyVwg-J7A1Ec",
        "outputId": "50d28fed-5b28-4f39-ade2-7984cbff74ff",
        "colab": {
          "base_uri": "https://localhost:8080/"
        }
      },
      "source": [
        "my_dict"
      ],
      "execution_count": 8,
      "outputs": [
        {
          "output_type": "execute_result",
          "data": {
            "text/plain": [
              "{\"I've been changed!\": True,\n",
              " 'a regular list': range(0, 5),\n",
              " 'one': 1,\n",
              " 'some set': {2, 4}}"
            ]
          },
          "metadata": {
            "tags": []
          },
          "execution_count": 8
        }
      ]
    },
    {
      "cell_type": "markdown",
      "metadata": {
        "id": "wiNYzBdyLimN"
      },
      "source": [
        "3) Unintentionally reusing a global variable can lead to bugs. If all else fails, you can uncomment and run the following line to **clear all global variables**."
      ]
    },
    {
      "cell_type": "code",
      "metadata": {
        "id": "_iO10nIILkqs"
      },
      "source": [
        "# %reset -f"
      ],
      "execution_count": 9,
      "outputs": []
    },
    {
      "cell_type": "markdown",
      "metadata": {
        "id": "vIVCsaGYMj1k"
      },
      "source": [
        "You will have to re-run the setup cells after."
      ]
    },
    {
      "cell_type": "markdown",
      "metadata": {
        "id": "qXw6vbMpFtFF"
      },
      "source": [
        "## Autocomplete / Documentation\n",
        "\n",
        "Code completions are displayed automatically while you are writing your code.\n",
        "\n",
        "If you find this to be annoying, you can go to:<br/>\n",
        "`Tools > Settings ... > Editor > Automatically trigger code completions` (UNCHECK).\n",
        "\n",
        "In this case, suggestions are manually invoked with the *`<TAB>`* key:\n",
        "* Pressing *`<TAB>`* after typing a prefix will show the available variables / commands.\n",
        "* Pressing *`<TAB>`* on a function parameter list will show the function documentation."
      ]
    },
    {
      "cell_type": "code",
      "metadata": {
        "id": "hwwF9RtoGMl4"
      },
      "source": [
        "direction_a, direction_b = ['UP', 'DOWN']"
      ],
      "execution_count": 10,
      "outputs": []
    },
    {
      "cell_type": "markdown",
      "metadata": {
        "id": "_6WGj-j5UQ6k"
      },
      "source": [
        "Uncomment and hit *`<TAB>`* after '**dir**':"
      ]
    },
    {
      "cell_type": "code",
      "metadata": {
        "id": "CVXKeD7PkIUp",
        "colab": {
          "base_uri": "https://localhost:8080/"
        },
        "outputId": "2f441b10-a6a0-4ca9-aa02-d8cf5d00bb6a"
      },
      "source": [
        "direction_a, direction_b"
      ],
      "execution_count": 11,
      "outputs": [
        {
          "output_type": "execute_result",
          "data": {
            "text/plain": [
              "('UP', 'DOWN')"
            ]
          },
          "metadata": {
            "tags": []
          },
          "execution_count": 11
        }
      ]
    },
    {
      "cell_type": "markdown",
      "metadata": {
        "id": "Rqy-TemM4fki"
      },
      "source": [
        "Uncomment and hit *`<TAB>`* after **`print(`**:"
      ]
    },
    {
      "cell_type": "code",
      "metadata": {
        "id": "88NbgSBsVKeM"
      },
      "source": [
        "print("
      ],
      "execution_count": null,
      "outputs": []
    },
    {
      "cell_type": "markdown",
      "metadata": {
        "id": "xUAFxf1uVkam"
      },
      "source": [
        "Alternatively, the question mark (**?**) works as a special character which gives us information about variables and functions. In this case you need to run the cell.\n",
        "\n"
      ]
    },
    {
      "cell_type": "code",
      "metadata": {
        "id": "h0nEx_NUVXbv"
      },
      "source": [
        "range?"
      ],
      "execution_count": 12,
      "outputs": []
    },
    {
      "cell_type": "markdown",
      "metadata": {
        "id": "6B17wzOd8S3D"
      },
      "source": [
        "## Shortcuts\n",
        "\n",
        "The 4 most useful colab-specific shortcuts are:\n",
        "\n",
        "* `Ctrl+/` which toggles comments. Can be applied across multiple lines. **Try below.**\n",
        "* `Ctrl+M b` which creates a new code cell below the current one, placing the cursor in it.\n",
        "* `Ctrl+M -` which splits the current cell into 2 at the location of the cursor.\n",
        "* `Ctrl+M d` which deletes the current cell.\n",
        "\n",
        "There is of course a search and replace functionality as well.\n",
        "\n"
      ]
    },
    {
      "cell_type": "code",
      "metadata": {
        "id": "PJon8nGv8TM4",
        "colab": {
          "base_uri": "https://localhost:8080/"
        },
        "outputId": "647e06fa-0787-4574-d876-f9a65188be18"
      },
      "source": [
        "print('comment')\n",
        "print('me')\n",
        "print('out')\n",
        "print('in one go')"
      ],
      "execution_count": 13,
      "outputs": [
        {
          "output_type": "stream",
          "text": [
            "comment\n",
            "me\n",
            "out\n",
            "in one go\n"
          ],
          "name": "stdout"
        }
      ]
    },
    {
      "cell_type": "markdown",
      "metadata": {
        "id": "dUTBihZIYC32"
      },
      "source": [
        "## Setup and Imports\n",
        "\n",
        "Python packages can and need to be imported into your colab notebook, the same way you would import them in a python script. For example, to use `numpy`, you would do"
      ]
    },
    {
      "cell_type": "code",
      "metadata": {
        "id": "Rhk-7l_dYExv"
      },
      "source": [
        "import numpy as np"
      ],
      "execution_count": 2,
      "outputs": []
    },
    {
      "cell_type": "markdown",
      "metadata": {
        "id": "fQE00MVwYfej"
      },
      "source": [
        "While many packages (all packages that you will need!) can just be imported, some (e.g. `sonnet`) may not immediately be available. With colab, you can install any python package from `pip` for the duration of your connection."
      ]
    },
    {
      "cell_type": "code",
      "metadata": {
        "id": "yfP92hNwYfqv",
        "colab": {
          "base_uri": "https://localhost:8080/"
        },
        "outputId": "a6f2ab6d-c5e1-4a1b-c6d9-0608369a2795"
      },
      "source": [
        "!pip install -q dm-haiku"
      ],
      "execution_count": 3,
      "outputs": [
        {
          "output_type": "stream",
          "text": [
            "\u001b[?25l\r\u001b[K     |█▎                              | 10kB 26.3MB/s eta 0:00:01\r\u001b[K     |██▌                             | 20kB 31.9MB/s eta 0:00:01\r\u001b[K     |███▊                            | 30kB 16.6MB/s eta 0:00:01\r\u001b[K     |█████                           | 40kB 11.6MB/s eta 0:00:01\r\u001b[K     |██████▎                         | 51kB 7.2MB/s eta 0:00:01\r\u001b[K     |███████▌                        | 61kB 7.8MB/s eta 0:00:01\r\u001b[K     |████████▉                       | 71kB 8.1MB/s eta 0:00:01\r\u001b[K     |██████████                      | 81kB 8.1MB/s eta 0:00:01\r\u001b[K     |███████████▎                    | 92kB 8.1MB/s eta 0:00:01\r\u001b[K     |████████████▋                   | 102kB 8.6MB/s eta 0:00:01\r\u001b[K     |█████████████▉                  | 112kB 8.6MB/s eta 0:00:01\r\u001b[K     |███████████████                 | 122kB 8.6MB/s eta 0:00:01\r\u001b[K     |████████████████▍               | 133kB 8.6MB/s eta 0:00:01\r\u001b[K     |█████████████████▋              | 143kB 8.6MB/s eta 0:00:01\r\u001b[K     |██████████████████▉             | 153kB 8.6MB/s eta 0:00:01\r\u001b[K     |████████████████████▏           | 163kB 8.6MB/s eta 0:00:01\r\u001b[K     |█████████████████████▍          | 174kB 8.6MB/s eta 0:00:01\r\u001b[K     |██████████████████████▋         | 184kB 8.6MB/s eta 0:00:01\r\u001b[K     |████████████████████████        | 194kB 8.6MB/s eta 0:00:01\r\u001b[K     |█████████████████████████▏      | 204kB 8.6MB/s eta 0:00:01\r\u001b[K     |██████████████████████████▍     | 215kB 8.6MB/s eta 0:00:01\r\u001b[K     |███████████████████████████▊    | 225kB 8.6MB/s eta 0:00:01\r\u001b[K     |█████████████████████████████   | 235kB 8.6MB/s eta 0:00:01\r\u001b[K     |██████████████████████████████▏ | 245kB 8.6MB/s eta 0:00:01\r\u001b[K     |███████████████████████████████▌| 256kB 8.6MB/s eta 0:00:01\r\u001b[K     |████████████████████████████████| 266kB 8.6MB/s \n",
            "\u001b[?25h"
          ],
          "name": "stdout"
        }
      ]
    },
    {
      "cell_type": "markdown",
      "metadata": {
        "id": "YUQ8oIhHfgYp"
      },
      "source": [
        "You would, then, be able to call `import haiku as hk` as you normally do."
      ]
    },
    {
      "cell_type": "markdown",
      "metadata": {
        "id": "qCIXC0D6_VEm"
      },
      "source": [
        "Notice that we ran the shell command `pip` above. You can run any shell command by starting with `!`.<br/>\n",
        "There is an example below, and you can read more [here](https://colab.research.google.com/github/jakevdp/PythonDataScienceHandbook/blob/master/notebooks/01.05-IPython-And-Shell-Commands.ipynb#scrollTo=Tts2ysMs-xIz)."
      ]
    },
    {
      "cell_type": "code",
      "metadata": {
        "id": "8iCFyEUP_jpX",
        "colab": {
          "base_uri": "https://localhost:8080/"
        },
        "outputId": "99e4c6da-28c2-4e58-99c5-e81687612786"
      },
      "source": [
        "!ls\n",
        "!mkdir {\"test\"}\n",
        "contents = !ls\n",
        "print(contents)"
      ],
      "execution_count": 4,
      "outputs": [
        {
          "output_type": "stream",
          "text": [
            "sample_data\n",
            "['sample_data  test']\n"
          ],
          "name": "stdout"
        }
      ]
    },
    {
      "cell_type": "markdown",
      "metadata": {
        "id": "pWAjydYTuVUz"
      },
      "source": [
        "## Debugging\n",
        "\n",
        "You can debug code in cells with `(i)pdb` (IPython debugger).\n",
        "There are multiple options:\n",
        "\n",
        "* Create a cell containging only `%debug` *after* encountering an error.\n",
        "* Add `%%debug` as the first line of an existing cell to start debugging from the beginning.\n",
        "* Add `import pdb; pdb.set_trace()` on a line to pause execution there.\n",
        "\n",
        "Use 'n' to run the next line of code, and 'c' to resume execution."
      ]
    },
    {
      "cell_type": "markdown",
      "metadata": {
        "id": "EFTr9-pQGNB8"
      },
      "source": [
        "### Use of %debug\n"
      ]
    },
    {
      "cell_type": "code",
      "metadata": {
        "id": "cRb-UKo7GWH_",
        "colab": {
          "base_uri": "https://localhost:8080/",
          "height": 178
        },
        "outputId": "78a216ee-d696-45dc-c442-8647b167474f"
      },
      "source": [
        "a_list = list()\n",
        "a_list['some_key'] = 4"
      ],
      "execution_count": 5,
      "outputs": [
        {
          "output_type": "error",
          "ename": "TypeError",
          "evalue": "ignored",
          "traceback": [
            "\u001b[0;31m---------------------------------------------------------------------------\u001b[0m",
            "\u001b[0;31mTypeError\u001b[0m                                 Traceback (most recent call last)",
            "\u001b[0;32m<ipython-input-5-f1f07892dd71>\u001b[0m in \u001b[0;36m<module>\u001b[0;34m()\u001b[0m\n\u001b[1;32m      1\u001b[0m \u001b[0ma_list\u001b[0m \u001b[0;34m=\u001b[0m \u001b[0mlist\u001b[0m\u001b[0;34m(\u001b[0m\u001b[0;34m)\u001b[0m\u001b[0;34m\u001b[0m\u001b[0;34m\u001b[0m\u001b[0m\n\u001b[0;32m----> 2\u001b[0;31m \u001b[0ma_list\u001b[0m\u001b[0;34m[\u001b[0m\u001b[0;34m'some_key'\u001b[0m\u001b[0;34m]\u001b[0m \u001b[0;34m=\u001b[0m \u001b[0;36m4\u001b[0m\u001b[0;34m\u001b[0m\u001b[0;34m\u001b[0m\u001b[0m\n\u001b[0m",
            "\u001b[0;31mTypeError\u001b[0m: list indices must be integers or slices, not str"
          ]
        }
      ]
    },
    {
      "cell_type": "code",
      "metadata": {
        "id": "-UvYB2Y-GV2M",
        "colab": {
          "base_uri": "https://localhost:8080/"
        },
        "outputId": "578b4cd2-4be4-4c9d-e787-f2c7cf9d50e8"
      },
      "source": [
        "%debug"
      ],
      "execution_count": 6,
      "outputs": [
        {
          "output_type": "stream",
          "text": [
            "> \u001b[0;32m<ipython-input-5-f1f07892dd71>\u001b[0m(2)\u001b[0;36m<module>\u001b[0;34m()\u001b[0m\n",
            "\u001b[0;32m      1 \u001b[0;31m\u001b[0ma_list\u001b[0m \u001b[0;34m=\u001b[0m \u001b[0mlist\u001b[0m\u001b[0;34m(\u001b[0m\u001b[0;34m)\u001b[0m\u001b[0;34m\u001b[0m\u001b[0;34m\u001b[0m\u001b[0m\n",
            "\u001b[0m\u001b[0;32m----> 2 \u001b[0;31m\u001b[0ma_list\u001b[0m\u001b[0;34m[\u001b[0m\u001b[0;34m'some_key'\u001b[0m\u001b[0;34m]\u001b[0m \u001b[0;34m=\u001b[0m \u001b[0;36m4\u001b[0m\u001b[0;34m\u001b[0m\u001b[0;34m\u001b[0m\u001b[0m\n",
            "\u001b[0m\n",
            "ipdb> a_list\n",
            "[]\n",
            "ipdb> n\n"
          ],
          "name": "stdout"
        }
      ]
    },
    {
      "cell_type": "markdown",
      "metadata": {
        "id": "fu9KuBnFGWzq"
      },
      "source": [
        "### Use of %%debug"
      ]
    },
    {
      "cell_type": "code",
      "metadata": {
        "id": "uyzsDJwGq_Dy",
        "colab": {
          "base_uri": "https://localhost:8080/"
        },
        "outputId": "19f8d90f-238c-43ac-fb9f-8e7f4ca2e98c"
      },
      "source": [
        "%%debug\n",
        "print('Let me get started.')\n",
        "message = 'We are almost done.'\n",
        "print('You can see the global variables, step through code, etc.')"
      ],
      "execution_count": 8,
      "outputs": [
        {
          "output_type": "stream",
          "text": [
            "NOTE: Enter 'c' at the ipdb>  prompt to continue execution.\n",
            "None\n",
            "> \u001b[0;32m<string>\u001b[0m(2)\u001b[0;36m<module>\u001b[0;34m()\u001b[0m\n",
            "\n",
            "ipdb> message\n",
            "'We are almost done.'\n",
            "ipdb> message=\"\"\n",
            "ipdb> message\n",
            "''\n",
            "ipdb> n\n",
            "Let me get started.\n",
            "None\n",
            "> \u001b[0;32m<string>\u001b[0m(3)\u001b[0;36m<module>\u001b[0;34m()\u001b[0m\n",
            "\n",
            "ipdb> message\n",
            "''\n",
            "ipdb> n\n",
            "None\n",
            "> \u001b[0;32m<string>\u001b[0m(4)\u001b[0;36m<module>\u001b[0;34m()\u001b[0m\n",
            "\n",
            "ipdb> message\n",
            "'We are almost done.'\n",
            "ipdb> n\n",
            "You can see the global variables, step through code, etc.\n",
            "--Return--\n",
            "None\n",
            "> \u001b[0;32m<string>\u001b[0m(4)\u001b[0;36m<module>\u001b[0;34m()\u001b[0m\n",
            "\n",
            "ipdb> c\n"
          ],
          "name": "stdout"
        }
      ]
    },
    {
      "cell_type": "markdown",
      "metadata": {
        "id": "d1ZsQaxZGZ7W"
      },
      "source": [
        "### Use of pdb"
      ]
    },
    {
      "cell_type": "code",
      "metadata": {
        "id": "_tQM1XFNFooh",
        "colab": {
          "base_uri": "https://localhost:8080/"
        },
        "outputId": "3775c896-85c0-43df-f2c1-489e5e28c3bc"
      },
      "source": [
        "print('Let me get started.')\n",
        "message = 'We are almost done.'\n",
        "import pdb; pdb.set_trace()\n",
        "print('You can see the global variables, step through code, etc.')"
      ],
      "execution_count": 9,
      "outputs": [
        {
          "output_type": "stream",
          "text": [
            "Let me get started.\n",
            "--Return--\n",
            "> <ipython-input-9-69cf57701807>(3)<module>()->None\n",
            "-> import pdb; pdb.set_trace()\n",
            "(Pdb) message\n",
            "'We are almost done.'\n",
            "(Pdb) c\n",
            "You can see the global variables, step through code, etc.\n"
          ],
          "name": "stdout"
        }
      ]
    },
    {
      "cell_type": "markdown",
      "metadata": {
        "id": "tiSKbgPe9hqI"
      },
      "source": [
        "## Forms\n",
        "\n",
        "With colab it is easy to take input from the user in code cells through so called forms. A simplest example is shown below."
      ]
    },
    {
      "cell_type": "code",
      "metadata": {
        "id": "Gu30itgd97l7",
        "colab": {
          "base_uri": "https://localhost:8080/"
        },
        "outputId": "e1ef33ca-80c4-4cec-acbd-95aa431408bf"
      },
      "source": [
        "# @title This text shows up as a title.\n",
        "\n",
        "a =   8# @param {type: 'integer'}\n",
        "b = 3  # @param\n",
        "\n",
        "print('a+b =', str(a+b))"
      ],
      "execution_count": 11,
      "outputs": [
        {
          "output_type": "stream",
          "text": [
            "a+b = 11\n"
          ],
          "name": "stdout"
        }
      ]
    },
    {
      "cell_type": "markdown",
      "metadata": {
        "id": "_-w9fM9BcUBS"
      },
      "source": [
        "In order to expose a variable as parameter you just add `#@param` after it.\n",
        "\n",
        "You can use the GUI on othe right hand side to change parameters values and types.<br/> **Try setting the value of a=5 and rerun the cell above.**\n",
        "\n",
        "You can read more about this on the official starting colab.\n"
      ]
    },
    {
      "cell_type": "markdown",
      "metadata": {
        "id": "XdQo7XSl-4wm"
      },
      "source": [
        "\n",
        "Cells with forms allow you to toggle whether either of these are visible:\n",
        "\n",
        "* the code,\n",
        "* the form,\n",
        "* or both\n",
        "\n",
        "**Try switching between these 3 options for the above cell.** This is how you do this:\n",
        "\n",
        "1. Click anywhere over the area of the cell with the form to highlight it.\n",
        "2. Click on the \"three vertically arranged dots\" icong in the top right of the cell.\n",
        "3. Go to \"Form >\", select your desired action."
      ]
    },
    {
      "cell_type": "markdown",
      "metadata": {
        "id": "SZKTwLixhlc5"
      },
      "source": [
        "## Guided exercise: write a decoder for a text encoder\n",
        "\n",
        "We defined a (very) simple text encoding function in ``encode()``.<br/>\n",
        "Your job is to understand it, and write the corresponding decoder in ``decode()``, so that **`text == decoder(encoder(text))`**.\n"
      ]
    },
    {
      "cell_type": "code",
      "metadata": {
        "id": "dJrw_uFKhqCh",
        "cellView": "code"
      },
      "source": [
        "# Code\n",
        "laws = \"\"\"\n",
        "1. A robot may not injure a human being or,\n",
        "    through inaction, allow a human being to come to harm.\n",
        "2. A robot must obey orders given it by human\n",
        "    beings except where such orders would conflict with the First Law.\n",
        "3. A robot must protect its own existence as\n",
        "    long as such protection does not conflict with the First or Second Law.\n",
        "\"\"\""
      ],
      "execution_count": 28,
      "outputs": []
    },
    {
      "cell_type": "code",
      "metadata": {
        "id": "RXJWQ0LBDeHR",
        "outputId": "3e5d3d7c-e912-4747-e74b-164caa1fe4c2",
        "colab": {
          "base_uri": "https://localhost:8080/"
        }
      },
      "source": [
        "[(ord(letter), chr(ord(letter)-1)) for letter in laws]"
      ],
      "execution_count": 29,
      "outputs": [
        {
          "output_type": "execute_result",
          "data": {
            "text/plain": [
              "[(10, '\\t'),\n",
              " (49, '0'),\n",
              " (46, '-'),\n",
              " (32, '\\x1f'),\n",
              " (65, '@'),\n",
              " (32, '\\x1f'),\n",
              " (114, 'q'),\n",
              " (111, 'n'),\n",
              " (98, 'a'),\n",
              " (111, 'n'),\n",
              " (116, 's'),\n",
              " (32, '\\x1f'),\n",
              " (109, 'l'),\n",
              " (97, '`'),\n",
              " (121, 'x'),\n",
              " (32, '\\x1f'),\n",
              " (110, 'm'),\n",
              " (111, 'n'),\n",
              " (116, 's'),\n",
              " (32, '\\x1f'),\n",
              " (105, 'h'),\n",
              " (110, 'm'),\n",
              " (106, 'i'),\n",
              " (117, 't'),\n",
              " (114, 'q'),\n",
              " (101, 'd'),\n",
              " (32, '\\x1f'),\n",
              " (97, '`'),\n",
              " (32, '\\x1f'),\n",
              " (104, 'g'),\n",
              " (117, 't'),\n",
              " (109, 'l'),\n",
              " (97, '`'),\n",
              " (110, 'm'),\n",
              " (32, '\\x1f'),\n",
              " (98, 'a'),\n",
              " (101, 'd'),\n",
              " (105, 'h'),\n",
              " (110, 'm'),\n",
              " (103, 'f'),\n",
              " (32, '\\x1f'),\n",
              " (111, 'n'),\n",
              " (114, 'q'),\n",
              " (44, '+'),\n",
              " (10, '\\t'),\n",
              " (32, '\\x1f'),\n",
              " (32, '\\x1f'),\n",
              " (32, '\\x1f'),\n",
              " (32, '\\x1f'),\n",
              " (116, 's'),\n",
              " (104, 'g'),\n",
              " (114, 'q'),\n",
              " (111, 'n'),\n",
              " (117, 't'),\n",
              " (103, 'f'),\n",
              " (104, 'g'),\n",
              " (32, '\\x1f'),\n",
              " (105, 'h'),\n",
              " (110, 'm'),\n",
              " (97, '`'),\n",
              " (99, 'b'),\n",
              " (116, 's'),\n",
              " (105, 'h'),\n",
              " (111, 'n'),\n",
              " (110, 'm'),\n",
              " (44, '+'),\n",
              " (32, '\\x1f'),\n",
              " (97, '`'),\n",
              " (108, 'k'),\n",
              " (108, 'k'),\n",
              " (111, 'n'),\n",
              " (119, 'v'),\n",
              " (32, '\\x1f'),\n",
              " (97, '`'),\n",
              " (32, '\\x1f'),\n",
              " (104, 'g'),\n",
              " (117, 't'),\n",
              " (109, 'l'),\n",
              " (97, '`'),\n",
              " (110, 'm'),\n",
              " (32, '\\x1f'),\n",
              " (98, 'a'),\n",
              " (101, 'd'),\n",
              " (105, 'h'),\n",
              " (110, 'm'),\n",
              " (103, 'f'),\n",
              " (32, '\\x1f'),\n",
              " (116, 's'),\n",
              " (111, 'n'),\n",
              " (32, '\\x1f'),\n",
              " (99, 'b'),\n",
              " (111, 'n'),\n",
              " (109, 'l'),\n",
              " (101, 'd'),\n",
              " (32, '\\x1f'),\n",
              " (116, 's'),\n",
              " (111, 'n'),\n",
              " (32, '\\x1f'),\n",
              " (104, 'g'),\n",
              " (97, '`'),\n",
              " (114, 'q'),\n",
              " (109, 'l'),\n",
              " (46, '-'),\n",
              " (10, '\\t'),\n",
              " (50, '1'),\n",
              " (46, '-'),\n",
              " (32, '\\x1f'),\n",
              " (65, '@'),\n",
              " (32, '\\x1f'),\n",
              " (114, 'q'),\n",
              " (111, 'n'),\n",
              " (98, 'a'),\n",
              " (111, 'n'),\n",
              " (116, 's'),\n",
              " (32, '\\x1f'),\n",
              " (109, 'l'),\n",
              " (117, 't'),\n",
              " (115, 'r'),\n",
              " (116, 's'),\n",
              " (32, '\\x1f'),\n",
              " (111, 'n'),\n",
              " (98, 'a'),\n",
              " (101, 'd'),\n",
              " (121, 'x'),\n",
              " (32, '\\x1f'),\n",
              " (111, 'n'),\n",
              " (114, 'q'),\n",
              " (100, 'c'),\n",
              " (101, 'd'),\n",
              " (114, 'q'),\n",
              " (115, 'r'),\n",
              " (32, '\\x1f'),\n",
              " (103, 'f'),\n",
              " (105, 'h'),\n",
              " (118, 'u'),\n",
              " (101, 'd'),\n",
              " (110, 'm'),\n",
              " (32, '\\x1f'),\n",
              " (105, 'h'),\n",
              " (116, 's'),\n",
              " (32, '\\x1f'),\n",
              " (98, 'a'),\n",
              " (121, 'x'),\n",
              " (32, '\\x1f'),\n",
              " (104, 'g'),\n",
              " (117, 't'),\n",
              " (109, 'l'),\n",
              " (97, '`'),\n",
              " (110, 'm'),\n",
              " (10, '\\t'),\n",
              " (32, '\\x1f'),\n",
              " (32, '\\x1f'),\n",
              " (32, '\\x1f'),\n",
              " (32, '\\x1f'),\n",
              " (98, 'a'),\n",
              " (101, 'd'),\n",
              " (105, 'h'),\n",
              " (110, 'm'),\n",
              " (103, 'f'),\n",
              " (115, 'r'),\n",
              " (32, '\\x1f'),\n",
              " (101, 'd'),\n",
              " (120, 'w'),\n",
              " (99, 'b'),\n",
              " (101, 'd'),\n",
              " (112, 'o'),\n",
              " (116, 's'),\n",
              " (32, '\\x1f'),\n",
              " (119, 'v'),\n",
              " (104, 'g'),\n",
              " (101, 'd'),\n",
              " (114, 'q'),\n",
              " (101, 'd'),\n",
              " (32, '\\x1f'),\n",
              " (115, 'r'),\n",
              " (117, 't'),\n",
              " (99, 'b'),\n",
              " (104, 'g'),\n",
              " (32, '\\x1f'),\n",
              " (111, 'n'),\n",
              " (114, 'q'),\n",
              " (100, 'c'),\n",
              " (101, 'd'),\n",
              " (114, 'q'),\n",
              " (115, 'r'),\n",
              " (32, '\\x1f'),\n",
              " (119, 'v'),\n",
              " (111, 'n'),\n",
              " (117, 't'),\n",
              " (108, 'k'),\n",
              " (100, 'c'),\n",
              " (32, '\\x1f'),\n",
              " (99, 'b'),\n",
              " (111, 'n'),\n",
              " (110, 'm'),\n",
              " (102, 'e'),\n",
              " (108, 'k'),\n",
              " (105, 'h'),\n",
              " (99, 'b'),\n",
              " (116, 's'),\n",
              " (32, '\\x1f'),\n",
              " (119, 'v'),\n",
              " (105, 'h'),\n",
              " (116, 's'),\n",
              " (104, 'g'),\n",
              " (32, '\\x1f'),\n",
              " (116, 's'),\n",
              " (104, 'g'),\n",
              " (101, 'd'),\n",
              " (32, '\\x1f'),\n",
              " (70, 'E'),\n",
              " (105, 'h'),\n",
              " (114, 'q'),\n",
              " (115, 'r'),\n",
              " (116, 's'),\n",
              " (32, '\\x1f'),\n",
              " (76, 'K'),\n",
              " (97, '`'),\n",
              " (119, 'v'),\n",
              " (46, '-'),\n",
              " (10, '\\t'),\n",
              " (51, '2'),\n",
              " (46, '-'),\n",
              " (32, '\\x1f'),\n",
              " (65, '@'),\n",
              " (32, '\\x1f'),\n",
              " (114, 'q'),\n",
              " (111, 'n'),\n",
              " (98, 'a'),\n",
              " (111, 'n'),\n",
              " (116, 's'),\n",
              " (32, '\\x1f'),\n",
              " (109, 'l'),\n",
              " (117, 't'),\n",
              " (115, 'r'),\n",
              " (116, 's'),\n",
              " (32, '\\x1f'),\n",
              " (112, 'o'),\n",
              " (114, 'q'),\n",
              " (111, 'n'),\n",
              " (116, 's'),\n",
              " (101, 'd'),\n",
              " (99, 'b'),\n",
              " (116, 's'),\n",
              " (32, '\\x1f'),\n",
              " (105, 'h'),\n",
              " (116, 's'),\n",
              " (115, 'r'),\n",
              " (32, '\\x1f'),\n",
              " (111, 'n'),\n",
              " (119, 'v'),\n",
              " (110, 'm'),\n",
              " (32, '\\x1f'),\n",
              " (101, 'd'),\n",
              " (120, 'w'),\n",
              " (105, 'h'),\n",
              " (115, 'r'),\n",
              " (116, 's'),\n",
              " (101, 'd'),\n",
              " (110, 'm'),\n",
              " (99, 'b'),\n",
              " (101, 'd'),\n",
              " (32, '\\x1f'),\n",
              " (97, '`'),\n",
              " (115, 'r'),\n",
              " (10, '\\t'),\n",
              " (32, '\\x1f'),\n",
              " (32, '\\x1f'),\n",
              " (32, '\\x1f'),\n",
              " (32, '\\x1f'),\n",
              " (108, 'k'),\n",
              " (111, 'n'),\n",
              " (110, 'm'),\n",
              " (103, 'f'),\n",
              " (32, '\\x1f'),\n",
              " (97, '`'),\n",
              " (115, 'r'),\n",
              " (32, '\\x1f'),\n",
              " (115, 'r'),\n",
              " (117, 't'),\n",
              " (99, 'b'),\n",
              " (104, 'g'),\n",
              " (32, '\\x1f'),\n",
              " (112, 'o'),\n",
              " (114, 'q'),\n",
              " (111, 'n'),\n",
              " (116, 's'),\n",
              " (101, 'd'),\n",
              " (99, 'b'),\n",
              " (116, 's'),\n",
              " (105, 'h'),\n",
              " (111, 'n'),\n",
              " (110, 'm'),\n",
              " (32, '\\x1f'),\n",
              " (100, 'c'),\n",
              " (111, 'n'),\n",
              " (101, 'd'),\n",
              " (115, 'r'),\n",
              " (32, '\\x1f'),\n",
              " (110, 'm'),\n",
              " (111, 'n'),\n",
              " (116, 's'),\n",
              " (32, '\\x1f'),\n",
              " (99, 'b'),\n",
              " (111, 'n'),\n",
              " (110, 'm'),\n",
              " (102, 'e'),\n",
              " (108, 'k'),\n",
              " (105, 'h'),\n",
              " (99, 'b'),\n",
              " (116, 's'),\n",
              " (32, '\\x1f'),\n",
              " (119, 'v'),\n",
              " (105, 'h'),\n",
              " (116, 's'),\n",
              " (104, 'g'),\n",
              " (32, '\\x1f'),\n",
              " (116, 's'),\n",
              " (104, 'g'),\n",
              " (101, 'd'),\n",
              " (32, '\\x1f'),\n",
              " (70, 'E'),\n",
              " (105, 'h'),\n",
              " (114, 'q'),\n",
              " (115, 'r'),\n",
              " (116, 's'),\n",
              " (32, '\\x1f'),\n",
              " (111, 'n'),\n",
              " (114, 'q'),\n",
              " (32, '\\x1f'),\n",
              " (83, 'R'),\n",
              " (101, 'd'),\n",
              " (99, 'b'),\n",
              " (111, 'n'),\n",
              " (110, 'm'),\n",
              " (100, 'c'),\n",
              " (32, '\\x1f'),\n",
              " (76, 'K'),\n",
              " (97, '`'),\n",
              " (119, 'v'),\n",
              " (46, '-'),\n",
              " (10, '\\t')]"
            ]
          },
          "metadata": {
            "tags": []
          },
          "execution_count": 29
        }
      ]
    },
    {
      "cell_type": "code",
      "metadata": {
        "id": "KsuSEMoVDn7O"
      },
      "source": [
        "def encode(plain_text):\n",
        "    new_letters = [chr(ord(letter)+1) for letter in plain_text]\n",
        "    return ''.join(new_letters)\n",
        "\n",
        "\n",
        "def decode(encoded_text):\n",
        "    ### Your Code Here ###\n",
        "    decoded_text = [chr(ord(letter)-1) for letter in encoded_text]\n",
        "\n",
        "    return ''.join(decoded_text)"
      ],
      "execution_count": 31,
      "outputs": []
    },
    {
      "cell_type": "code",
      "metadata": {
        "id": "4X3bhmgLolXZ",
        "colab": {
          "base_uri": "https://localhost:8080/"
        },
        "outputId": "8fddfc3b-cba6-4a1d-fd03-7923bbed42e1"
      },
      "source": [
        "# Basic Test\n",
        "\n",
        "encoded_text = encode(laws)\n",
        "print('The encoded text:')\n",
        "print(encoded_text)\n",
        "assert encoded_text != laws, (\n",
        "    'The encoded text should be different from the original')\n",
        "print()\n",
        "\n",
        "decoded_text = decode(encoded_text)\n",
        "print('The decoded text:')\n",
        "print(decoded_text)\n",
        "assert decoded_text == laws, (\n",
        "    'The decoded text should be the same as the original')"
      ],
      "execution_count": 32,
      "outputs": [
        {
          "output_type": "stream",
          "text": [
            "The encoded text:\n",
            "\u000b2/!B!spcpu!nbz!opu!jokvsf!b!ivnbo!cfjoh!ps-\u000b!!!!uispvhi!jobdujpo-!bmmpx!b!ivnbo!cfjoh!up!dpnf!up!ibsn/\u000b3/!B!spcpu!nvtu!pcfz!psefst!hjwfo!ju!cz!ivnbo\u000b!!!!cfjoht!fydfqu!xifsf!tvdi!psefst!xpvme!dpogmjdu!xjui!uif!Gjstu!Mbx/\u000b4/!B!spcpu!nvtu!qspufdu!jut!pxo!fyjtufodf!bt\u000b!!!!mpoh!bt!tvdi!qspufdujpo!epft!opu!dpogmjdu!xjui!uif!Gjstu!ps!Tfdpoe!Mbx/\u000b\n",
            "\n",
            "The decoded text:\n",
            "\n",
            "1. A robot may not injure a human being or,\n",
            "    through inaction, allow a human being to come to harm.\n",
            "2. A robot must obey orders given it by human\n",
            "    beings except where such orders would conflict with the First Law.\n",
            "3. A robot must protect its own existence as\n",
            "    long as such protection does not conflict with the First or Second Law.\n",
            "\n"
          ],
          "name": "stdout"
        }
      ]
    },
    {
      "cell_type": "code",
      "metadata": {
        "id": "odNeTetkrS2x",
        "cellView": "form"
      },
      "source": [
        "# @title Solution\n",
        "\n",
        "# def encode(plain_text):\n",
        "#     new_letters = [chr(ord(letter)+1) for letter in plain_text]\n",
        "#     return ''.join(new_letters)\n",
        "\n",
        "\n",
        "# def decode(encoded_text):\n",
        "#     new_letters = [chr(ord(letter)-1) for letter in encoded_text]\n",
        "#     return ''.join(new_letters)"
      ],
      "execution_count": 33,
      "outputs": []
    },
    {
      "cell_type": "markdown",
      "metadata": {
        "id": "B6g2I-twVvp5"
      },
      "source": [
        "## Some additional tips\n",
        "\n",
        "* You can access an outline of the colab by clicking the arrow on the right hand side.\n",
        "* The [official colab landing colab](https://colab.sandbox.google.com/notebooks/welcome.ipynb) has some more examples and info as well."
      ]
    },
    {
      "cell_type": "code",
      "metadata": {
        "id": "bnqUuMiSAwum"
      },
      "source": [
        ""
      ],
      "execution_count": null,
      "outputs": []
    }
  ]
}