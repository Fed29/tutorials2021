{
  "nbformat": 4,
  "nbformat_minor": 0,
  "metadata": {
    "accelerator": "GPU",
    "colab": {
      "name": "Lab_02_Intro_JAX.ipynb",
      "provenance": [],
      "collapsed_sections": [],
      "include_colab_link": true
    },
    "kernelspec": {
      "display_name": "Python 3",
      "language": "python",
      "name": "python3"
    },
    "language_info": {
      "codemirror_mode": {
        "name": "ipython",
        "version": 3
      },
      "file_extension": ".py",
      "mimetype": "text/x-python",
      "name": "python",
      "nbconvert_exporter": "python",
      "pygments_lexer": "ipython3",
      "version": "3.8.5"
    },
    "widgets": {
      "application/vnd.jupyter.widget-state+json": {
        "1d8c99cd8329464b9a8713893f24cf8e": {
          "model_module": "@jupyter-widgets/controls",
          "model_name": "HBoxModel",
          "state": {
            "_view_name": "HBoxView",
            "_dom_classes": [],
            "_model_name": "HBoxModel",
            "_view_module": "@jupyter-widgets/controls",
            "_model_module_version": "1.5.0",
            "_view_count": null,
            "_view_module_version": "1.5.0",
            "box_style": "",
            "layout": "IPY_MODEL_7a76f31229f64e7597c17b27e5affeab",
            "_model_module": "@jupyter-widgets/controls",
            "children": [
              "IPY_MODEL_d6b33e19cbac4a7f960aa8ab8aa8b7e7",
              "IPY_MODEL_024add9bbb1c47f3bf89627488c129f2"
            ]
          }
        },
        "7a76f31229f64e7597c17b27e5affeab": {
          "model_module": "@jupyter-widgets/base",
          "model_name": "LayoutModel",
          "state": {
            "_view_name": "LayoutView",
            "grid_template_rows": null,
            "right": null,
            "justify_content": null,
            "_view_module": "@jupyter-widgets/base",
            "overflow": null,
            "_model_module_version": "1.2.0",
            "_view_count": null,
            "flex_flow": null,
            "width": null,
            "min_width": null,
            "border": null,
            "align_items": null,
            "bottom": null,
            "_model_module": "@jupyter-widgets/base",
            "top": null,
            "grid_column": null,
            "overflow_y": null,
            "overflow_x": null,
            "grid_auto_flow": null,
            "grid_area": null,
            "grid_template_columns": null,
            "flex": null,
            "_model_name": "LayoutModel",
            "justify_items": null,
            "grid_row": null,
            "max_height": null,
            "align_content": null,
            "visibility": null,
            "align_self": null,
            "height": null,
            "min_height": null,
            "padding": null,
            "grid_auto_rows": null,
            "grid_gap": null,
            "max_width": null,
            "order": null,
            "_view_module_version": "1.2.0",
            "grid_template_areas": null,
            "object_position": null,
            "object_fit": null,
            "grid_auto_columns": null,
            "margin": null,
            "display": null,
            "left": null
          }
        },
        "d6b33e19cbac4a7f960aa8ab8aa8b7e7": {
          "model_module": "@jupyter-widgets/controls",
          "model_name": "FloatProgressModel",
          "state": {
            "_view_name": "ProgressView",
            "style": "IPY_MODEL_6f8e83b09eb048e68f5371da5f658148",
            "_dom_classes": [],
            "description": "Dl Completed...: 100%",
            "_model_name": "FloatProgressModel",
            "bar_style": "success",
            "max": 4,
            "_view_module": "@jupyter-widgets/controls",
            "_model_module_version": "1.5.0",
            "value": 4,
            "_view_count": null,
            "_view_module_version": "1.5.0",
            "orientation": "horizontal",
            "min": 0,
            "description_tooltip": null,
            "_model_module": "@jupyter-widgets/controls",
            "layout": "IPY_MODEL_afa4b3976e30497cbfa45ebf22c57ad8"
          }
        },
        "024add9bbb1c47f3bf89627488c129f2": {
          "model_module": "@jupyter-widgets/controls",
          "model_name": "HTMLModel",
          "state": {
            "_view_name": "HTMLView",
            "style": "IPY_MODEL_47fc7672e69d4e33871b093deb1c0c07",
            "_dom_classes": [],
            "description": "",
            "_model_name": "HTMLModel",
            "placeholder": "​",
            "_view_module": "@jupyter-widgets/controls",
            "_model_module_version": "1.5.0",
            "value": " 4/4 [00:00&lt;00:00,  6.92 file/s]",
            "_view_count": null,
            "_view_module_version": "1.5.0",
            "description_tooltip": null,
            "_model_module": "@jupyter-widgets/controls",
            "layout": "IPY_MODEL_746c85785b2448d9a79cc295cfc270e6"
          }
        },
        "6f8e83b09eb048e68f5371da5f658148": {
          "model_module": "@jupyter-widgets/controls",
          "model_name": "ProgressStyleModel",
          "state": {
            "_view_name": "StyleView",
            "_model_name": "ProgressStyleModel",
            "description_width": "initial",
            "_view_module": "@jupyter-widgets/base",
            "_model_module_version": "1.5.0",
            "_view_count": null,
            "_view_module_version": "1.2.0",
            "bar_color": null,
            "_model_module": "@jupyter-widgets/controls"
          }
        },
        "afa4b3976e30497cbfa45ebf22c57ad8": {
          "model_module": "@jupyter-widgets/base",
          "model_name": "LayoutModel",
          "state": {
            "_view_name": "LayoutView",
            "grid_template_rows": null,
            "right": null,
            "justify_content": null,
            "_view_module": "@jupyter-widgets/base",
            "overflow": null,
            "_model_module_version": "1.2.0",
            "_view_count": null,
            "flex_flow": null,
            "width": null,
            "min_width": null,
            "border": null,
            "align_items": null,
            "bottom": null,
            "_model_module": "@jupyter-widgets/base",
            "top": null,
            "grid_column": null,
            "overflow_y": null,
            "overflow_x": null,
            "grid_auto_flow": null,
            "grid_area": null,
            "grid_template_columns": null,
            "flex": null,
            "_model_name": "LayoutModel",
            "justify_items": null,
            "grid_row": null,
            "max_height": null,
            "align_content": null,
            "visibility": null,
            "align_self": null,
            "height": null,
            "min_height": null,
            "padding": null,
            "grid_auto_rows": null,
            "grid_gap": null,
            "max_width": null,
            "order": null,
            "_view_module_version": "1.2.0",
            "grid_template_areas": null,
            "object_position": null,
            "object_fit": null,
            "grid_auto_columns": null,
            "margin": null,
            "display": null,
            "left": null
          }
        },
        "47fc7672e69d4e33871b093deb1c0c07": {
          "model_module": "@jupyter-widgets/controls",
          "model_name": "DescriptionStyleModel",
          "state": {
            "_view_name": "StyleView",
            "_model_name": "DescriptionStyleModel",
            "description_width": "",
            "_view_module": "@jupyter-widgets/base",
            "_model_module_version": "1.5.0",
            "_view_count": null,
            "_view_module_version": "1.2.0",
            "_model_module": "@jupyter-widgets/controls"
          }
        },
        "746c85785b2448d9a79cc295cfc270e6": {
          "model_module": "@jupyter-widgets/base",
          "model_name": "LayoutModel",
          "state": {
            "_view_name": "LayoutView",
            "grid_template_rows": null,
            "right": null,
            "justify_content": null,
            "_view_module": "@jupyter-widgets/base",
            "overflow": null,
            "_model_module_version": "1.2.0",
            "_view_count": null,
            "flex_flow": null,
            "width": null,
            "min_width": null,
            "border": null,
            "align_items": null,
            "bottom": null,
            "_model_module": "@jupyter-widgets/base",
            "top": null,
            "grid_column": null,
            "overflow_y": null,
            "overflow_x": null,
            "grid_auto_flow": null,
            "grid_area": null,
            "grid_template_columns": null,
            "flex": null,
            "_model_name": "LayoutModel",
            "justify_items": null,
            "grid_row": null,
            "max_height": null,
            "align_content": null,
            "visibility": null,
            "align_self": null,
            "height": null,
            "min_height": null,
            "padding": null,
            "grid_auto_rows": null,
            "grid_gap": null,
            "max_width": null,
            "order": null,
            "_view_module_version": "1.2.0",
            "grid_template_areas": null,
            "object_position": null,
            "object_fit": null,
            "grid_auto_columns": null,
            "margin": null,
            "display": null,
            "left": null
          }
        }
      }
    }
  },
  "cells": [
    {
      "cell_type": "markdown",
      "metadata": {
        "id": "view-in-github",
        "colab_type": "text"
      },
      "source": [
        "<a href=\"https://colab.research.google.com/github/Fed29/tutorials2021/blob/main/0_intro_material/Lab_02_Intro_JAX.ipynb\" target=\"_parent\"><img src=\"https://colab.research.google.com/assets/colab-badge.svg\" alt=\"Open In Colab\"/></a>"
      ]
    },
    {
      "cell_type": "markdown",
      "metadata": {
        "id": "rjPF8rKiize7"
      },
      "source": [
        "# JAX\n",
        "[JAX](https://jax.readthedocs.io/en/latest/jax.html) is a library to conduct machine learning research directly on NumPy-like code and data.\n",
        "\n",
        "- It automatically differentiates python code and NumPy code (with [Autograd](https://github.com/hips/autograd)).\n",
        "- It compiles and runs NumPy code efficiently on accelerators like GPU and TPU (with [XLA](https://www.tensorflow.org/xla))."
      ]
    },
    {
      "cell_type": "markdown",
      "metadata": {
        "id": "NDmbQoL5mYmA"
      },
      "source": [
        "### JAX and random number generators\n",
        "To use pseudo-random generators in JAX, you need to explicitely generate a random key, and pass it to the operations that work with random numbers (e.g. model initialization, dropout etc).\n",
        "\n",
        "A call to a random function with the same key does not change the state of the generator. This has to be done explicitely with `split()` (or `next_rng_key()` in `haiku` transformed functions)."
      ]
    },
    {
      "cell_type": "code",
      "metadata": {
        "id": "0j5kLgolmlCl",
        "outputId": "97008d7f-b6bc-4b1b-dbea-ce601318a6f2",
        "colab": {
          "base_uri": "https://localhost:8080/"
        }
      },
      "source": [
        "import jax.numpy as jnp\n",
        "from jax import random\n",
        "\n",
        "# Generating a single key will result in duplicate pseudo-random numbers\n",
        "key = random.PRNGKey(0)\n",
        "x1 = random.normal(key, (3,))\n",
        "print(x1)\n",
        "x2 = random.normal(key, (3,))\n",
        "print(x2)"
      ],
      "execution_count": 1,
      "outputs": [
        {
          "output_type": "stream",
          "text": [
            "[ 1.8160863  -0.48262316  0.33988908]\n",
            "[ 1.8160863  -0.48262316  0.33988908]\n"
          ],
          "name": "stdout"
        }
      ]
    },
    {
      "cell_type": "code",
      "metadata": {
        "id": "IZNs5VAdfmpG",
        "outputId": "ce0f911a-982a-42a1-c83b-e0291d0adc00",
        "colab": {
          "base_uri": "https://localhost:8080/"
        }
      },
      "source": [
        "# Let's split the key to be able to generate different random values\n",
        "key, new_key = random.split(key)\n",
        "x1 = random.normal(key, (3,))\n",
        "print(x1)\n",
        "x2 = random.normal(new_key, (3,))\n",
        "print(x2)"
      ],
      "execution_count": 2,
      "outputs": [
        {
          "output_type": "stream",
          "text": [
            "[ 0.13893168  0.509335   -0.53116107]\n",
            "[ 1.1378784  -1.2209548  -0.59153634]\n"
          ],
          "name": "stdout"
        }
      ]
    },
    {
      "cell_type": "markdown",
      "metadata": {
        "id": "-hiqCH1Nkvdv"
      },
      "source": [
        "### JAX program transformations with examples \n",
        "* `jit` (just-in-time compilation) -- speeds up your code by running all the ops inside the jit-ed function as a *fused* op; it compiles the function when it is called the first time, and uses the compiled (optimized) version from the second call onwards.\n",
        "* `grad` (automatic differentiation) -- returns derivatives of a function with respect to the model weights passed as parameters.\n",
        "* `vmap` (automatic batching) -- returns a new function that can apply the original (per-sample) function to a batch.\n",
        "\n"
      ]
    },
    {
      "cell_type": "markdown",
      "metadata": {
        "id": "PJ49KxvRklLG"
      },
      "source": [
        "**Just-in-time compilation**"
      ]
    },
    {
      "cell_type": "markdown",
      "metadata": {
        "id": "kgUXa0jMo2gx"
      },
      "source": [
        "A function can be \"jit-ed\" in two ways:\n",
        "* by defining a new one as ``jit(original_function)`` (shown here)\n",
        "* by using the ``@jit`` decorator in the function definition (shown later).\n"
      ]
    },
    {
      "cell_type": "code",
      "metadata": {
        "id": "qiWR4CPjlc6T",
        "outputId": "636a0e1a-8b16-4cac-db8f-abc4892858f4",
        "colab": {
          "base_uri": "https://localhost:8080/"
        }
      },
      "source": [
        "from jax import jit\n",
        "\n",
        "\n",
        "# Function and input definition\n",
        "def selu(x, alpha=1.67, lmbda=1.05):\n",
        "    return lmbda * jnp.where(x > 0, x, alpha * jnp.exp(x) - alpha)\n",
        "\n",
        "\n",
        "x = random.normal(key, (1000000,))\n",
        "\n",
        "# Execute the function without jit\n",
        "%timeit selu(x).block_until_ready()\n",
        "\n",
        "# Execute the function with jit\n",
        "selu_jit = jit(selu)\n",
        "%timeit selu_jit(x).block_until_ready()"
      ],
      "execution_count": 3,
      "outputs": [
        {
          "output_type": "stream",
          "text": [
            "The slowest run took 164.08 times longer than the fastest. This could mean that an intermediate result is being cached.\n",
            "1 loop, best of 3: 2.35 ms per loop\n",
            "The slowest run took 447.84 times longer than the fastest. This could mean that an intermediate result is being cached.\n",
            "1000 loops, best of 3: 253 µs per loop\n"
          ],
          "name": "stdout"
        }
      ]
    },
    {
      "cell_type": "markdown",
      "metadata": {
        "id": "N5r5pqGzk_jK"
      },
      "source": [
        "Note: we used ``block_until_ready`` to time the function calls because JAX, by default, runs operations asynchronously."
      ]
    },
    {
      "cell_type": "markdown",
      "metadata": {
        "id": "25H9JFFQkw2I"
      },
      "source": [
        "**Automatic differentiation**"
      ]
    },
    {
      "cell_type": "markdown",
      "metadata": {
        "id": "IBHX97Uy5kBD"
      },
      "source": [
        "Also known as \"autograd\", automatic differentiation can be obtained in JAX by calling `grad(original_function)`."
      ]
    },
    {
      "cell_type": "code",
      "metadata": {
        "id": "rP70-aR3oouX"
      },
      "source": [
        "from jax import grad, jit\n",
        "\n",
        "\n",
        "# Function definition\n",
        "def simple_fun(x):\n",
        "    return jnp.sin(x) / x\n",
        "\n",
        "\n",
        "# Get the gradient of simple_fun with respect to its input x\n",
        "grad_simple_fun = grad(simple_fun)\n",
        "\n",
        "# Get higher order derivatives of simple_fun (e.g. Hessian)\n",
        "grad_grad_simple_fun = grad(grad(simple_fun))"
      ],
      "execution_count": 4,
      "outputs": []
    },
    {
      "cell_type": "markdown",
      "metadata": {
        "id": "BeegVpqw6e6k"
      },
      "source": [
        "Note: `grad_simple_fun()` accepts the same input type as `simple_fun()`.<br/>\n",
        "So if we want to pass a vector in our example, we have to either use a list comprehension (shown here), or use a proper batching mechanism (shown later)."
      ]
    },
    {
      "cell_type": "code",
      "metadata": {
        "id": "FH8uTx364T0m",
        "outputId": "e6345023-c39f-4f38-a4c5-59772f6443ae",
        "colab": {
          "base_uri": "https://localhost:8080/",
          "height": 265
        }
      },
      "source": [
        "# Let's plot the result\n",
        "import matplotlib.pyplot as plt\n",
        "x_range = jnp.arange(-8, 8, .1)\n",
        "plt.plot(x_range, simple_fun(x_range), 'b')\n",
        "plt.plot(x_range, [grad_simple_fun(xi) for xi in x_range], 'r')\n",
        "plt.plot(x_range, [grad_grad_simple_fun(xi) for xi in x_range], '--g')\n",
        "plt.legend(('simple_fun(x)', 'grad_simple_fun(x)', 'grad_grad_simple_fun(x)'))\n",
        "plt.show()"
      ],
      "execution_count": 5,
      "outputs": [
        {
          "output_type": "display_data",
          "data": {
            "image/png": "[encoded data removed]",
            "text/plain": [
              "<Figure size 432x288 with 1 Axes>"
            ]
          },
          "metadata": {
            "tags": [],
            "needs_background": "light"
          }
        }
      ]
    },
    {
      "cell_type": "markdown",
      "metadata": {
        "id": "O7dRXkw8k1c0"
      },
      "source": [
        "**Automatic batching**"
      ]
    },
    {
      "cell_type": "code",
      "metadata": {
        "id": "W6mCivd-nTay",
        "outputId": "0375ef64-8d33-457d-b520-0d6baa067235",
        "colab": {
          "base_uri": "https://localhost:8080/",
          "height": 265
        }
      },
      "source": [
        "from jax import vmap\n",
        "\n",
        "# In the example above, we can use vmap instead of loop to compute gradients\n",
        "# (We stop at the first-order derivative)\n",
        "grad_vect_simple_fun = vmap(grad_simple_fun)(x_range)\n",
        "\n",
        "# Plot again and visually check that the gradients are identical\n",
        "plt.plot(x_range, simple_fun(x_range), 'b')\n",
        "plt.plot(x_range, grad_vect_simple_fun, 'c', linewidth=5)\n",
        "plt.plot(x_range, [grad_simple_fun(xi) for xi in x_range], 'r')\n",
        "plt.legend(('simple_fun(x)', 'grad_vect_simple_fun(x)', 'grad_simple_fun(x)'))\n",
        "plt.show()"
      ],
      "execution_count": 6,
      "outputs": [
        {
          "output_type": "display_data",
          "data": {
            "image/png": "[encoded data removed]",
            "text/plain": [
              "<Figure size 432x288 with 1 Axes>"
            ]
          },
          "metadata": {
            "tags": [],
            "needs_background": "light"
          }
        }
      ]
    },
    {
      "cell_type": "code",
      "metadata": {
        "id": "dibhhYsjphE3",
        "outputId": "6a8c9725-ab33-4da3-e6dd-8808159b0c2a",
        "colab": {
          "base_uri": "https://localhost:8080/"
        }
      },
      "source": [
        "# Let's time them!\n",
        "\n",
        "# naive batching\n",
        "def naively_batched(x):\n",
        "    return jnp.stack([grad_simple_fun(xi) for xi in x])\n",
        "\n",
        "\n",
        "# manual batching with jit\n",
        "@jit\n",
        "def manual_batched(x):\n",
        "    return jnp.stack([grad_simple_fun(xi) for xi in x])\n",
        "\n",
        "\n",
        "# Batching using vmap and jit\n",
        "@jit\n",
        "def vmap_batched(x):\n",
        "    return vmap(grad_simple_fun)(x)\n",
        "\n",
        "\n",
        "print('Naively batched')\n",
        "%timeit naively_batched(x_range).block_until_ready()\n",
        "print('jit batched')\n",
        "%timeit manual_batched(x_range).block_until_ready()\n",
        "print('With jit vmap')\n",
        "%timeit vmap_batched(x_range).block_until_ready()"
      ],
      "execution_count": 7,
      "outputs": [
        {
          "output_type": "stream",
          "text": [
            "Naively batched\n",
            "1 loop, best of 3: 582 ms per loop\n",
            "jit batched\n",
            "The slowest run took 16655.30 times longer than the fastest. This could mean that an intermediate result is being cached.\n",
            "1 loop, best of 3: 303 µs per loop\n",
            "With jit vmap\n",
            "The slowest run took 685.43 times longer than the fastest. This could mean that an intermediate result is being cached.\n",
            "1000 loops, best of 3: 207 µs per loop\n"
          ],
          "name": "stdout"
        }
      ]
    },
    {
      "cell_type": "markdown",
      "metadata": {
        "id": "d0lHGcAwdfQq"
      },
      "source": [
        "### Read the doc for [common gotchas](https://jax.readthedocs.io/en/latest/notebooks/Common_Gotchas_in_JAX.html) in JAX!"
      ]
    },
    {
      "cell_type": "markdown",
      "metadata": {
        "id": "x7ViyN6Q8kOa"
      },
      "source": [
        "# Haiku\n",
        "[Haiku](https://github.com/deepmind/dm-haiku) is an object-oriented library to develop neural networks on top of JAX.\n",
        "\n",
        "Notable entities:\n",
        "* `hk.Module`: this is the base class for all layers and neural networks in Haiku.<br/>You can implement your own as a subclass of it: `class MyModule(hk.Module): [...]`\n",
        "* `hk.transform`: this is used to convert modules (stateful elements) into pure functions (stateless elements).<br/>All JAX transformations (e.g. `jax.grad`) require you to pass in a pure function for correct behaviour.\n",
        "\n"
      ]
    },
    {
      "cell_type": "markdown",
      "metadata": {
        "id": "3h4MVQzkck_R"
      },
      "source": [
        "**Example: Train a Multi-Layer Perceptron classifier (MLP) on the MNIST dataset**"
      ]
    },
    {
      "cell_type": "code",
      "metadata": {
        "id": "G6dDQBr71quQ",
        "outputId": "a28afd10-ee0e-4b91-8e8f-f0a489aaa6cc",
        "colab": {
          "base_uri": "https://localhost:8080/"
        }
      },
      "source": [
        "# We will use haiku on top of jax\n",
        "\n",
        "! pip install -q dm-haiku\n",
        "! pip install -q optax"
      ],
      "execution_count": 8,
      "outputs": [
        {
          "output_type": "stream",
          "text": [
            "\u001b[K     |████████████████████████████████| 266kB 13.5MB/s \n",
            "\u001b[K     |████████████████████████████████| 61kB 8.3MB/s \n",
            "\u001b[K     |████████████████████████████████| 51kB 7.2MB/s \n",
            "\u001b[?25h"
          ],
          "name": "stdout"
        }
      ]
    },
    {
      "cell_type": "code",
      "metadata": {
        "id": "NG3krUq1WK_A",
        "outputId": "8c4a46e5-f733-45a3-b97a-5697f4713810",
        "colab": {
          "base_uri": "https://localhost:8080/"
        }
      },
      "source": [
        "import contextlib\n",
        "from typing import Any, Mapping, Generator, Tuple\n",
        "\n",
        "import haiku as hk\n",
        "\n",
        "import jax\n",
        "import optax  # package for optimizers\n",
        "import jax.numpy as jnp\n",
        "import numpy as np\n",
        "import enum\n",
        "\n",
        "# Dataset library\n",
        "import tensorflow.compat.v2 as tf\n",
        "import tensorflow_datasets as tfds\n",
        "\n",
        "# Plotting library\n",
        "from matplotlib import pyplot as plt\n",
        "import pylab as pl\n",
        "from IPython import display\n",
        "\n",
        "# Don't forget to select GPU runtime environment\n",
        "# in Runtime -> Change runtime type\n",
        "device_name = tf.test.gpu_device_name()\n",
        "if device_name != '/device:GPU:0':\n",
        "    raise SystemError('GPU device not found')\n",
        "print('Found GPU at: {}'.format(device_name))\n",
        "\n",
        "# define some useful types\n",
        "OptState = Any\n",
        "Batch = Mapping[str, np.ndarray]"
      ],
      "execution_count": 9,
      "outputs": [
        {
          "output_type": "stream",
          "text": [
            "Found GPU at: /device:GPU:0\n"
          ],
          "name": "stdout"
        }
      ]
    },
    {
      "cell_type": "markdown",
      "metadata": {
        "id": "6r0EfeAqIZkS"
      },
      "source": [
        "### Define the dataset: MNIST"
      ]
    },
    {
      "cell_type": "markdown",
      "metadata": {
        "id": "gaqS6S2Y3oZh"
      },
      "source": [
        "MNIST dataset: [[Reference 1](http://yann.lecun.com/exdb/mnist/)] [[Reference 2](https://en.wikipedia.org/wiki/MNIST_database)]"
      ]
    },
    {
      "cell_type": "code",
      "metadata": {
        "id": "_lWzTqgO1K3R"
      },
      "source": [
        "# JAX does not support data loading or preprocessing,\n",
        "# so we use TensorFlow datasets (tfds).\n",
        "# We define a load_dataset() function that selectively imports,\n",
        "# shuffles and batches part of MNIST.\n",
        "# The function returns a Generator which produces batches of\n",
        "# MNIST data.\n",
        "\n",
        "NUM_CLASSES = 10\n",
        "\n",
        "def load_dataset(split:str, *, is_training:bool, batch_size:int) -> Generator[Batch, None, None]:\n",
        "    \"\"\"Loads the dataset as a generator of batches.\"\"\"\n",
        "    ds = tfds.load('mnist:3.*.*', split=split).cache().repeat()\n",
        "    if is_training:\n",
        "        ds = ds.shuffle(10 * batch_size, seed=0)\n",
        "    ds = ds.batch(batch_size)\n",
        "    return tfds.as_numpy(ds)"
      ],
      "execution_count": 11,
      "outputs": []
    },
    {
      "cell_type": "code",
      "metadata": {
        "id": "GMXfrKnof2L3",
        "outputId": "844be321-ad77-4f87-e05f-a34fb9d80608",
        "colab": {
          "base_uri": "https://localhost:8080/",
          "height": 200,
          "referenced_widgets": [
            "1d8c99cd8329464b9a8713893f24cf8e",
            "7a76f31229f64e7597c17b27e5affeab",
            "d6b33e19cbac4a7f960aa8ab8aa8b7e7",
            "024add9bbb1c47f3bf89627488c129f2",
            "6f8e83b09eb048e68f5371da5f658148",
            "afa4b3976e30497cbfa45ebf22c57ad8",
            "47fc7672e69d4e33871b093deb1c0c07",
            "746c85785b2448d9a79cc295cfc270e6"
          ]
        }
      },
      "source": [
        "# Make datasets for train and test\n",
        "train_dataset = iter(load_dataset('train',\n",
        "                                  is_training=True,\n",
        "                                  batch_size=1000))\n",
        "train_eval_dataset = iter(load_dataset('train',\n",
        "                                       is_training=False,\n",
        "                                       batch_size=10000))\n",
        "test_eval_dataset = iter(load_dataset('test',\n",
        "                                      is_training=False,\n",
        "                                      batch_size=10000))"
      ],
      "execution_count": 12,
      "outputs": [
        {
          "output_type": "stream",
          "text": [
            "\u001b[1mDownloading and preparing dataset mnist/3.0.1 (download: 11.06 MiB, generated: 21.00 MiB, total: 32.06 MiB) to /root/tensorflow_datasets/mnist/3.0.1...\u001b[0m\n"
          ],
          "name": "stdout"
        },
        {
          "output_type": "stream",
          "text": [
            "WARNING:absl:Dataset mnist is hosted on GCS. It will automatically be downloaded to your\n",
            "local data directory. If you'd instead prefer to read directly from our public\n",
            "GCS bucket (recommended if you're running on GCP), you can instead pass\n",
            "`try_gcs=True` to `tfds.load` or set `data_dir=gs://tfds-data/datasets`.\n",
            "\n"
          ],
          "name": "stderr"
        },
        {
          "output_type": "display_data",
          "data": {
            "application/vnd.jupyter.widget-view+json": {
              "model_id": "1d8c99cd8329464b9a8713893f24cf8e",
              "version_minor": 0,
              "version_major": 2
            },
            "text/plain": [
              "HBox(children=(FloatProgress(value=0.0, description='Dl Completed...', max=4.0, style=ProgressStyle(descriptio…"
            ]
          },
          "metadata": {
            "tags": []
          }
        },
        {
          "output_type": "stream",
          "text": [
            "\n",
            "\n",
            "\u001b[1mDataset mnist downloaded and prepared to /root/tensorflow_datasets/mnist/3.0.1. Subsequent calls will reuse this data.\u001b[0m\n"
          ],
          "name": "stdout"
        }
      ]
    },
    {
      "cell_type": "markdown",
      "metadata": {
        "id": "00m3RHu0BTir"
      },
      "source": [
        "### Define the classifier: a simple MLP"
      ]
    },
    {
      "cell_type": "markdown",
      "metadata": {
        "id": "8zqQS22S-qcu"
      },
      "source": [
        "Architecture:\n",
        "*   Flatten (unroll 28$\\times$28 image into 784-long vector)\n",
        "*   Linear mapping to 300-long vector (fully-connected)\n",
        "*   ReLU (non-linearity)\n",
        "*   Linear mapping to 100-long vector\n",
        "*   ReLU\n",
        "*   Linear mapping to the final problem size (10 classes)"
      ]
    },
    {
      "cell_type": "code",
      "metadata": {
        "id": "7j58v6LhWjrQ"
      },
      "source": [
        "def net_fn(batch: Batch) -> jnp.ndarray:\n",
        "    \"\"\"Standard LeNet-300-100 MLP network.\"\"\"\n",
        "    # The images are in [0, 255], uint8; \n",
        "    # we need to convert to float and normalize\n",
        "    x = batch['image'].astype(jnp.float32) / 255.\n",
        "    # We use hk.Sequential to chain the modules in the network\n",
        "    mlp = hk.Sequential([\n",
        "        # The input images are 28x28, so we first flatten them\n",
        "        # to apply linear (fully-connected) layers\n",
        "        hk.Flatten(),\n",
        "        hk.Linear(300), jax.nn.relu,\n",
        "        hk.Linear(100), jax.nn.relu,\n",
        "        hk.Linear(10),\n",
        "    ])\n",
        "    return mlp(x)"
      ],
      "execution_count": 13,
      "outputs": []
    },
    {
      "cell_type": "markdown",
      "metadata": {
        "id": "YeSPeUblANWV"
      },
      "source": [
        "``hk.transform`` turns functions that use object-oriented, functionally \"impure\" modules into pure functions that can be used with ``jax.jit``, ``jax.grad``, ``jax.pmap``, etc.\n",
        "\n",
        "Note: since we do not store additional state statistics (e.g. as needed in batch norm), we use `hk.transform`.<br/>\n",
        "If we define a `batch_norm` layer, we will use `hk.transform_with_state`"
      ]
    },
    {
      "cell_type": "code",
      "metadata": {
        "id": "a9YzGJ_4WuE5"
      },
      "source": [
        "net = hk.transform(net_fn)"
      ],
      "execution_count": 14,
      "outputs": []
    },
    {
      "cell_type": "code",
      "metadata": {
        "id": "jgEI2ACn_0C0",
        "outputId": "363c75ae-fd92-40b9-87fc-3e99ec453377",
        "colab": {
          "base_uri": "https://localhost:8080/"
        }
      },
      "source": [
        "print(type(net_fn))\n",
        "print(type(net))"
      ],
      "execution_count": 15,
      "outputs": [
        {
          "output_type": "stream",
          "text": [
            "<class 'function'>\n",
            "<class 'haiku._src.transform.Transformed'>\n"
          ],
          "name": "stdout"
        }
      ]
    },
    {
      "cell_type": "markdown",
      "metadata": {
        "id": "qfm8NSdQOR1n"
      },
      "source": [
        "### Define the optimizer"
      ]
    },
    {
      "cell_type": "markdown",
      "metadata": {
        "id": "l4yK8gSlBFjR"
      },
      "source": [
        "https://jax.readthedocs.io/en/latest/jax.experimental.optimizers.html"
      ]
    },
    {
      "cell_type": "code",
      "metadata": {
        "id": "xxXMm5OzOPCO"
      },
      "source": [
        "# We use Adam optimizer here. Others are possible, e.g. SGD with momentum.\n",
        "lr = 1e-3\n",
        "opt = optax.adam(lr)"
      ],
      "execution_count": 16,
      "outputs": []
    },
    {
      "cell_type": "markdown",
      "metadata": {
        "id": "GA81esw-OoBK"
      },
      "source": [
        "### Define the optimization objective (loss function)"
      ]
    },
    {
      "cell_type": "code",
      "metadata": {
        "id": "OA1FdFSwWwtb"
      },
      "source": [
        "# Training loss: cross-entropy plus regularization weight decay\n",
        "def loss(params: hk.Params, batch: Batch) -> jnp.ndarray:\n",
        "    \"\"\"Compute the loss of the network, including L2 for regularization.\"\"\"\n",
        "\n",
        "    # Get network predictions\n",
        "    logits = net.apply(params, None, batch)\n",
        "\n",
        "    # Generate one_hot labels from index classes\n",
        "    labels = jax.nn.one_hot(batch['label'], NUM_CLASSES)\n",
        "\n",
        "    # Compute mean softmax cross entropy over the batch\n",
        "    softmax_xent = -jnp.sum(labels * jax.nn.log_softmax(logits))\n",
        "    softmax_xent /= labels.shape[0]\n",
        "\n",
        "    # Compute the weight decay loss by penalising the norm of parameters\n",
        "    l2_loss = 0.5 * sum(jnp.sum(jnp.square(p))\n",
        "                        for p in jax.tree_leaves(params))\n",
        "\n",
        "    return softmax_xent + 1e-4 * l2_loss"
      ],
      "execution_count": 17,
      "outputs": []
    },
    {
      "cell_type": "markdown",
      "metadata": {
        "id": "KA_CZhFHQDDN"
      },
      "source": [
        "### Evaluation metric"
      ]
    },
    {
      "cell_type": "code",
      "metadata": {
        "id": "dlEMA3RCXBU_"
      },
      "source": [
        "# Classification accuracy\n",
        "@jax.jit\n",
        "def accuracy(params: hk.Params, batch: Batch) -> jnp.ndarray:\n",
        "    # Get network predictions\n",
        "    predictions = net.apply(params, None, batch)\n",
        "    # Return accuracy = how many predictions match the ground truth\n",
        "    return jnp.mean(jnp.argmax(predictions, axis=-1) == batch['label'])"
      ],
      "execution_count": 18,
      "outputs": []
    },
    {
      "cell_type": "markdown",
      "metadata": {
        "id": "0SGCtelDQfOv"
      },
      "source": [
        "### Define training step (parameters update)"
      ]
    },
    {
      "cell_type": "code",
      "metadata": {
        "id": "PsjUbkMWQlt-"
      },
      "source": [
        "@jax.jit\n",
        "def update(\n",
        "    params: hk.Params,\n",
        "    opt_state: OptState,\n",
        "    batch: Batch,\n",
        ") -> Tuple[hk.Params, OptState]:\n",
        "    \"\"\"Learning rule (stochastic gradient descent).\"\"\"\n",
        "    # Use jax transformation `grad` to compute gradients;\n",
        "    # it expects the parameters of the model and the input batch\n",
        "    grads = jax.grad(loss)(params, batch)\n",
        "\n",
        "    # Compute parameters updates based on gradients and optimizer state\n",
        "    updates, opt_state = opt.update(grads, opt_state)\n",
        "\n",
        "    # Apply updates to parameters\n",
        "    new_params = optax.apply_updates(params, updates)\n",
        "    return new_params, opt_state"
      ],
      "execution_count": 19,
      "outputs": []
    },
    {
      "cell_type": "markdown",
      "metadata": {
        "id": "RubrTm2_WOiP"
      },
      "source": [
        "### Initialize the model and the optimizer"
      ]
    },
    {
      "cell_type": "code",
      "metadata": {
        "id": "2a8lZDaAmH3B"
      },
      "source": [
        "# Initialize model and optimizer; note that a sample input is needed to compute\n",
        "# shapes of parameters\n",
        "\n",
        "# Generate a data batch\n",
        "batch = next(train_dataset)\n",
        "# Initialize model\n",
        "params = net.init(jax.random.PRNGKey(42), batch)\n",
        "# Initialize optimizer\n",
        "opt_state = opt.init(params)"
      ],
      "execution_count": 20,
      "outputs": []
    },
    {
      "cell_type": "markdown",
      "metadata": {
        "id": "h2yunmBjWyPQ"
      },
      "source": [
        "### Visualize data and parameter shapes"
      ]
    },
    {
      "cell_type": "code",
      "metadata": {
        "id": "A2OYWEKKgVEJ"
      },
      "source": [
        "# We define a gallery() function to display images\n",
        "\n",
        "MAX_IMAGES = 10\n",
        "\n",
        "def gallery(images, label, title='Input images'):\n",
        "    class_dict = [u'zero', u'one', u'two', u'three',\n",
        "                  u'four', u'five', u'six', u'seven',\n",
        "                  u'eight', u'nine']\n",
        "    num_frames, h, w, num_channels = images.shape\n",
        "    num_frames = min(num_frames, MAX_IMAGES)\n",
        "    ff, axes = plt.subplots(1, num_frames,\n",
        "                            figsize=(30, 30),\n",
        "                            subplot_kw={'xticks': [], 'yticks': []})\n",
        "    if images.min() < 0:\n",
        "        images = (images + 1.) / 2.\n",
        "    for i in range(0, num_frames):\n",
        "        if num_channels == 3:\n",
        "            axes[i].imshow(np.squeeze(images[i]))\n",
        "        else:\n",
        "            axes[i].imshow(np.squeeze(images[i]), cmap='gray')\n",
        "        axes[i].set_title(class_dict[label[i]], fontsize=28)\n",
        "        plt.setp(axes[i].get_xticklabels(), visible=False)\n",
        "        plt.setp(axes[i].get_yticklabels(), visible=False)\n",
        "    ff.subplots_adjust(wspace=0.1)\n",
        "    plt.show()"
      ],
      "execution_count": 21,
      "outputs": []
    },
    {
      "cell_type": "code",
      "metadata": {
        "id": "SSmLtlnUgBeS",
        "outputId": "117b1b2c-cbbe-4056-a0c1-bcf3e2895fed",
        "colab": {
          "base_uri": "https://localhost:8080/",
          "height": 217
        }
      },
      "source": [
        "# Display shapes and images\n",
        "print(batch['image'].shape)\n",
        "print(batch['label'].shape)\n",
        "gallery(batch['image'], batch['label'])"
      ],
      "execution_count": 22,
      "outputs": [
        {
          "output_type": "stream",
          "text": [
            "(1000, 28, 28, 1)\n",
            "(1000,)\n"
          ],
          "name": "stdout"
        },
        {
          "output_type": "display_data",
          "data": {
            "image/png": "[encoded data removed]",
            "text/plain": [
              "<Figure size 2160x2160 with 10 Axes>"
            ]
          },
          "metadata": {
            "tags": []
          }
        }
      ]
    },
    {
      "cell_type": "code",
      "metadata": {
        "id": "euhMKRF_W5_D",
        "outputId": "6ac7fe14-564b-4c67-d0fa-008d363bc2e8",
        "colab": {
          "base_uri": "https://localhost:8080/"
        }
      },
      "source": [
        "# Let's see how many parameters are in our network and their shapes\n",
        "def get_num_params(params: hk.Params):\n",
        "    num_params = 0\n",
        "    for p in jax.tree_leaves(params):\n",
        "        print(p.shape)\n",
        "        num_params = num_params + np.prod(p.shape)\n",
        "    return num_params\n",
        "\n",
        "print('Total number of parameters %d' % get_num_params(params))"
      ],
      "execution_count": 23,
      "outputs": [
        {
          "output_type": "stream",
          "text": [
            "(300,)\n",
            "(784, 300)\n",
            "(100,)\n",
            "(300, 100)\n",
            "(10,)\n",
            "(100, 10)\n",
            "Total number of parameters 266610\n"
          ],
          "name": "stdout"
        }
      ]
    },
    {
      "cell_type": "markdown",
      "metadata": {
        "id": "Uq1OddpfX-6y"
      },
      "source": [
        "### Accuracy of the untrained model (should be ~10%)"
      ]
    },
    {
      "cell_type": "code",
      "metadata": {
        "id": "dHzblZx6X9jH",
        "outputId": "dd416954-038e-44ea-c1cc-6919406b7882",
        "colab": {
          "base_uri": "https://localhost:8080/"
        }
      },
      "source": [
        "# Compute accuracy on the test dataset\n",
        "test_accuracy = accuracy(params, next(test_eval_dataset))\n",
        "print('Test accuracy %f ' % test_accuracy)"
      ],
      "execution_count": 24,
      "outputs": [
        {
          "output_type": "stream",
          "text": [
            "Test accuracy 0.131600 \n"
          ],
          "name": "stdout"
        }
      ]
    },
    {
      "cell_type": "code",
      "metadata": {
        "id": "wIiw1dPDZEuN",
        "outputId": "0578505b-ce5f-48ec-af64-71fa15071c73",
        "colab": {
          "base_uri": "https://localhost:8080/",
          "height": 183
        }
      },
      "source": [
        "# Let's visualize some network predictions\n",
        "# before training; if some are correct,\n",
        "# they are correct by chance.\n",
        "predictions = net.apply(params, None, batch)\n",
        "pred_labels = jnp.argmax(predictions, axis=-1)\n",
        "gallery(batch['image'], pred_labels)"
      ],
      "execution_count": 25,
      "outputs": [
        {
          "output_type": "display_data",
          "data": {
            "image/png": "[encoded data removed]",
            "text/plain": [
              "<Figure size 2160x2160 with 10 Axes>"
            ]
          },
          "metadata": {
            "tags": []
          }
        }
      ]
    },
    {
      "cell_type": "markdown",
      "metadata": {
        "id": "NjeMJxKYaeN-"
      },
      "source": [
        "### Run one training step"
      ]
    },
    {
      "cell_type": "code",
      "metadata": {
        "id": "ejfhiuoiaiZ6",
        "outputId": "a4e34c32-9042-4033-d34b-f2a07ff6f888",
        "colab": {
          "base_uri": "https://localhost:8080/"
        }
      },
      "source": [
        "# First, let's do one step and check if the updates lead to decrease in error\n",
        "loss_before_train = loss(params, batch)\n",
        "print('Loss before train %f' % loss_before_train)\n",
        "params, opt_state = update(params, opt_state, batch)\n",
        "new_loss = loss(params, next(train_dataset))\n",
        "new_loss_same_batch = loss(params, batch)\n",
        "print('Loss after one step of training, same batch %f, different batch %f'\n",
        "      % (new_loss_same_batch, new_loss))"
      ],
      "execution_count": 26,
      "outputs": [
        {
          "output_type": "stream",
          "text": [
            "Loss before train 2.314259\n",
            "Loss after one step of training, same batch 2.221060, different batch 2.227546\n"
          ],
          "name": "stdout"
        }
      ]
    },
    {
      "cell_type": "markdown",
      "metadata": {
        "id": "n9QFlfNTW-GZ"
      },
      "source": [
        "### Run training steps in a loop. We also run evaluation periodically."
      ]
    },
    {
      "cell_type": "code",
      "metadata": {
        "id": "fAR5joBwV5cT",
        "outputId": "fb89d2af-33a2-4559-d950-e24287ab8126",
        "colab": {
          "base_uri": "https://localhost:8080/"
        }
      },
      "source": [
        "# Train/eval loop.\n",
        "for step in range(5001):\n",
        "    if step % 1000 == 0:\n",
        "        # Periodically evaluate classification accuracy on train & test sets.\n",
        "        train_accuracy = accuracy(params, next(train_eval_dataset))\n",
        "        test_accuracy = accuracy(params, next(test_eval_dataset))\n",
        "        train_accuracy, test_accuracy = jax.device_get(\n",
        "            (train_accuracy, test_accuracy))\n",
        "        print('Step %d Train / Test accuracy: %f / %f'\n",
        "              % (step, train_accuracy, test_accuracy))\n",
        "\n",
        "    # Do SGD on a batch of training examples.\n",
        "    params, opt_state = update(params, opt_state, next(train_dataset))"
      ],
      "execution_count": 27,
      "outputs": [
        {
          "output_type": "stream",
          "text": [
            "Step 0 Train / Test accuracy: 0.394600 / 0.386300\n",
            "Step 1000 Train / Test accuracy: 0.995100 / 0.979000\n",
            "Step 2000 Train / Test accuracy: 0.999200 / 0.981000\n",
            "Step 3000 Train / Test accuracy: 0.999700 / 0.981500\n",
            "Step 4000 Train / Test accuracy: 0.999200 / 0.981800\n",
            "Step 5000 Train / Test accuracy: 0.999100 / 0.981700\n"
          ],
          "name": "stdout"
        }
      ]
    },
    {
      "cell_type": "markdown",
      "metadata": {
        "id": "JNYLWtvmao4i"
      },
      "source": [
        "### Visualize network predictions after training. Most of the predictions should be correct."
      ]
    },
    {
      "cell_type": "code",
      "metadata": {
        "id": "mGb8B6n6au9L",
        "outputId": "c1c6aa6a-46b7-4393-83a6-1d876da703dc",
        "colab": {
          "base_uri": "https://localhost:8080/",
          "height": 183
        }
      },
      "source": [
        "# Get predictions for the same batch\n",
        "predictions = net.apply(params, None, batch)\n",
        "pred_labels = jnp.argmax(predictions, axis=-1)\n",
        "gallery(batch['image'], pred_labels)"
      ],
      "execution_count": 28,
      "outputs": [
        {
          "output_type": "display_data",
          "data": {
            "image/png": "[encoded data removed]",
            "text/plain": [
              "<Figure size 2160x2160 with 10 Axes>"
            ]
          },
          "metadata": {
            "tags": []
          }
        }
      ]
    },
    {
      "cell_type": "code",
      "metadata": {
        "id": "an3i8DMGDn83"
      },
      "source": [
        ""
      ],
      "execution_count": null,
      "outputs": []
    }
  ]
}